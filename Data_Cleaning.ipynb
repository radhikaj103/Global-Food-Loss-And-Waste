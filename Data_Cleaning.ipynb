{
 "cells": [
  {
   "cell_type": "code",
   "execution_count": 1,
   "id": "6c344e68",
   "metadata": {},
   "outputs": [],
   "source": [
    "import pandas as pd\n",
    "import numpy as np"
   ]
  },
  {
   "cell_type": "markdown",
   "id": "78bdc6ef",
   "metadata": {},
   "source": [
    "### Import datasets for different basket categories"
   ]
  },
  {
   "cell_type": "code",
   "execution_count": 2,
   "id": "81febd62",
   "metadata": {
    "scrolled": true
   },
   "outputs": [
    {
     "name": "stdout",
     "output_type": "stream",
     "text": [
      "<class 'pandas.core.frame.DataFrame'>\n",
      "RangeIndex: 27653 entries, 0 to 27652\n",
      "Data columns (total 18 columns):\n",
      " #   Column                    Non-Null Count  Dtype  \n",
      "---  ------                    --------------  -----  \n",
      " 0   m49_code                  27653 non-null  int64  \n",
      " 1   country                   27653 non-null  object \n",
      " 2   region                    793 non-null    object \n",
      " 3   cpc_code                  27653 non-null  object \n",
      " 4   commodity                 27653 non-null  object \n",
      " 5   year                      27653 non-null  int64  \n",
      " 6   loss_percentage           27653 non-null  float64\n",
      " 7   loss_percentage_original  27653 non-null  object \n",
      " 8   loss_quantity             4552 non-null   object \n",
      " 9   activity                  20788 non-null  object \n",
      " 10  food_supply_stage         27604 non-null  object \n",
      " 11  treatment                 793 non-null    object \n",
      " 12  cause_of_loss             870 non-null    object \n",
      " 13  sample_size               1176 non-null   object \n",
      " 14  method_data_collection    27298 non-null  object \n",
      " 15  reference                 8316 non-null   object \n",
      " 16  url                       21158 non-null  object \n",
      " 17  notes                     1230 non-null   object \n",
      "dtypes: float64(1), int64(2), object(15)\n",
      "memory usage: 3.8+ MB\n"
     ]
    },
    {
     "data": {
      "text/plain": [
       "None"
      ]
     },
     "metadata": {},
     "output_type": "display_data"
    }
   ],
   "source": [
    "wasteData = pd.read_csv(\"Data.csv\")\n",
    "display(wasteData.info())"
   ]
  },
  {
   "cell_type": "code",
   "execution_count": 3,
   "id": "0880be5c",
   "metadata": {
    "scrolled": false
   },
   "outputs": [
    {
     "data": {
      "text/plain": [
       "149"
      ]
     },
     "metadata": {},
     "output_type": "display_data"
    }
   ],
   "source": [
    "display(wasteData['country'].nunique())"
   ]
  },
  {
   "cell_type": "code",
   "execution_count": 14,
   "id": "355e6ad9",
   "metadata": {
    "scrolled": true
   },
   "outputs": [
    {
     "name": "stdout",
     "output_type": "stream",
     "text": [
      "<class 'pandas.core.frame.DataFrame'>\n",
      "RangeIndex: 21108 entries, 0 to 21107\n",
      "Data columns (total 18 columns):\n",
      " #   Column                    Non-Null Count  Dtype  \n",
      "---  ------                    --------------  -----  \n",
      " 0   m49_code                  21108 non-null  int64  \n",
      " 1   country                   21108 non-null  object \n",
      " 2   region                    377 non-null    object \n",
      " 3   cpc_code                  21108 non-null  float64\n",
      " 4   commodity                 21108 non-null  object \n",
      " 5   year                      21108 non-null  int64  \n",
      " 6   loss_percentage           21108 non-null  float64\n",
      " 7   loss_percentage_original  21108 non-null  object \n",
      " 8   loss_quantity             1962 non-null   object \n",
      " 9   activity                  18846 non-null  object \n",
      " 10  food_supply_stage         21087 non-null  object \n",
      " 11  treatment                 389 non-null    object \n",
      " 12  cause_of_loss             236 non-null    object \n",
      " 13  sample_size               402 non-null    object \n",
      " 14  method_data_collection    21008 non-null  object \n",
      " 15  reference                 3040 non-null   object \n",
      " 16  url                       18511 non-null  object \n",
      " 17  notes                     377 non-null    object \n",
      "dtypes: float64(2), int64(2), object(14)\n",
      "memory usage: 2.9+ MB\n"
     ]
    },
    {
     "data": {
      "text/plain": [
       "None"
      ]
     },
     "metadata": {},
     "output_type": "display_data"
    },
    {
     "data": {
      "text/html": [
       "<div>\n",
       "<style scoped>\n",
       "    .dataframe tbody tr th:only-of-type {\n",
       "        vertical-align: middle;\n",
       "    }\n",
       "\n",
       "    .dataframe tbody tr th {\n",
       "        vertical-align: top;\n",
       "    }\n",
       "\n",
       "    .dataframe thead th {\n",
       "        text-align: right;\n",
       "    }\n",
       "</style>\n",
       "<table border=\"1\" class=\"dataframe\">\n",
       "  <thead>\n",
       "    <tr style=\"text-align: right;\">\n",
       "      <th></th>\n",
       "      <th>m49_code</th>\n",
       "      <th>country</th>\n",
       "      <th>region</th>\n",
       "      <th>cpc_code</th>\n",
       "      <th>commodity</th>\n",
       "      <th>year</th>\n",
       "      <th>loss_percentage</th>\n",
       "      <th>loss_percentage_original</th>\n",
       "      <th>loss_quantity</th>\n",
       "      <th>activity</th>\n",
       "      <th>food_supply_stage</th>\n",
       "      <th>treatment</th>\n",
       "      <th>cause_of_loss</th>\n",
       "      <th>sample_size</th>\n",
       "      <th>method_data_collection</th>\n",
       "      <th>reference</th>\n",
       "      <th>url</th>\n",
       "      <th>notes</th>\n",
       "      <th>commodity_group</th>\n",
       "    </tr>\n",
       "  </thead>\n",
       "  <tbody>\n",
       "    <tr>\n",
       "      <th>0</th>\n",
       "      <td>108</td>\n",
       "      <td>Burundi</td>\n",
       "      <td>NaN</td>\n",
       "      <td>111.0</td>\n",
       "      <td>Wheat</td>\n",
       "      <td>2020</td>\n",
       "      <td>3.50</td>\n",
       "      <td>3.5</td>\n",
       "      <td>NaN</td>\n",
       "      <td>Shelling, Threshing</td>\n",
       "      <td>Farm</td>\n",
       "      <td>NaN</td>\n",
       "      <td>NaN</td>\n",
       "      <td>NaN</td>\n",
       "      <td>Modelled Estimates</td>\n",
       "      <td>NaN</td>\n",
       "      <td>https://www.aphlis.net/en/page/20/data-tables#...</td>\n",
       "      <td>NaN</td>\n",
       "      <td>Cereals and Pulses</td>\n",
       "    </tr>\n",
       "    <tr>\n",
       "      <th>1</th>\n",
       "      <td>108</td>\n",
       "      <td>Burundi</td>\n",
       "      <td>NaN</td>\n",
       "      <td>111.0</td>\n",
       "      <td>Wheat</td>\n",
       "      <td>2020</td>\n",
       "      <td>4.87</td>\n",
       "      <td>4.87</td>\n",
       "      <td>NaN</td>\n",
       "      <td>Storage</td>\n",
       "      <td>Farm</td>\n",
       "      <td>NaN</td>\n",
       "      <td>NaN</td>\n",
       "      <td>NaN</td>\n",
       "      <td>Modelled Estimates</td>\n",
       "      <td>NaN</td>\n",
       "      <td>https://www.aphlis.net/en/page/20/data-tables#...</td>\n",
       "      <td>NaN</td>\n",
       "      <td>Cereals and Pulses</td>\n",
       "    </tr>\n",
       "    <tr>\n",
       "      <th>2</th>\n",
       "      <td>108</td>\n",
       "      <td>Burundi</td>\n",
       "      <td>NaN</td>\n",
       "      <td>111.0</td>\n",
       "      <td>Wheat</td>\n",
       "      <td>2020</td>\n",
       "      <td>2.50</td>\n",
       "      <td>2.5</td>\n",
       "      <td>NaN</td>\n",
       "      <td>Transportation</td>\n",
       "      <td>Farm</td>\n",
       "      <td>NaN</td>\n",
       "      <td>NaN</td>\n",
       "      <td>NaN</td>\n",
       "      <td>Modelled Estimates</td>\n",
       "      <td>NaN</td>\n",
       "      <td>https://www.aphlis.net/en/page/20/data-tables#...</td>\n",
       "      <td>NaN</td>\n",
       "      <td>Cereals and Pulses</td>\n",
       "    </tr>\n",
       "  </tbody>\n",
       "</table>\n",
       "</div>"
      ],
      "text/plain": [
       "   m49_code  country region  cpc_code commodity  year  loss_percentage  \\\n",
       "0       108  Burundi    NaN     111.0     Wheat  2020             3.50   \n",
       "1       108  Burundi    NaN     111.0     Wheat  2020             4.87   \n",
       "2       108  Burundi    NaN     111.0     Wheat  2020             2.50   \n",
       "\n",
       "  loss_percentage_original loss_quantity             activity  \\\n",
       "0                      3.5           NaN  Shelling, Threshing   \n",
       "1                     4.87           NaN              Storage   \n",
       "2                      2.5           NaN       Transportation   \n",
       "\n",
       "  food_supply_stage treatment cause_of_loss sample_size  \\\n",
       "0              Farm       NaN           NaN         NaN   \n",
       "1              Farm       NaN           NaN         NaN   \n",
       "2              Farm       NaN           NaN         NaN   \n",
       "\n",
       "  method_data_collection reference  \\\n",
       "0     Modelled Estimates       NaN   \n",
       "1     Modelled Estimates       NaN   \n",
       "2     Modelled Estimates       NaN   \n",
       "\n",
       "                                                 url notes     commodity_group  \n",
       "0  https://www.aphlis.net/en/page/20/data-tables#...   NaN  Cereals and Pulses  \n",
       "1  https://www.aphlis.net/en/page/20/data-tables#...   NaN  Cereals and Pulses  \n",
       "2  https://www.aphlis.net/en/page/20/data-tables#...   NaN  Cereals and Pulses  "
      ]
     },
     "metadata": {},
     "output_type": "display_data"
    }
   ],
   "source": [
    "# cereals and pulses\n",
    "CP_data = pd.read_csv(\"cereals_pulses_data.csv\")\n",
    "display(CP_data.info())\n",
    "\n",
    "# Add a column with name- \"commodity_group\" and value - \"Cereals and Pulses\"\n",
    "CP_data['commodity_group'] = \"Cereals and Pulses\"\n",
    "display(CP_data.head(3))"
   ]
  },
  {
   "cell_type": "code",
   "execution_count": 15,
   "id": "b42f55f2",
   "metadata": {},
   "outputs": [
    {
     "name": "stdout",
     "output_type": "stream",
     "text": [
      "<class 'pandas.core.frame.DataFrame'>\n",
      "RangeIndex: 4026 entries, 0 to 4025\n",
      "Data columns (total 18 columns):\n",
      " #   Column                    Non-Null Count  Dtype  \n",
      "---  ------                    --------------  -----  \n",
      " 0   m49_code                  4026 non-null   int64  \n",
      " 1   country                   4026 non-null   object \n",
      " 2   region                    228 non-null    object \n",
      " 3   cpc_code                  4026 non-null   float64\n",
      " 4   commodity                 4026 non-null   object \n",
      " 5   year                      4026 non-null   int64  \n",
      " 6   loss_percentage           4026 non-null   float64\n",
      " 7   loss_percentage_original  4026 non-null   object \n",
      " 8   loss_quantity             1069 non-null   object \n",
      " 9   activity                  1229 non-null   object \n",
      " 10  food_supply_stage         4005 non-null   object \n",
      " 11  treatment                 284 non-null    object \n",
      " 12  cause_of_loss             446 non-null    object \n",
      " 13  sample_size               562 non-null    object \n",
      " 14  method_data_collection    3899 non-null   object \n",
      " 15  reference                 2964 non-null   object \n",
      " 16  url                       1979 non-null   object \n",
      " 17  notes                     615 non-null    object \n",
      "dtypes: float64(2), int64(2), object(14)\n",
      "memory usage: 566.3+ KB\n"
     ]
    },
    {
     "data": {
      "text/plain": [
       "None"
      ]
     },
     "metadata": {},
     "output_type": "display_data"
    },
    {
     "data": {
      "text/html": [
       "<div>\n",
       "<style scoped>\n",
       "    .dataframe tbody tr th:only-of-type {\n",
       "        vertical-align: middle;\n",
       "    }\n",
       "\n",
       "    .dataframe tbody tr th {\n",
       "        vertical-align: top;\n",
       "    }\n",
       "\n",
       "    .dataframe thead th {\n",
       "        text-align: right;\n",
       "    }\n",
       "</style>\n",
       "<table border=\"1\" class=\"dataframe\">\n",
       "  <thead>\n",
       "    <tr style=\"text-align: right;\">\n",
       "      <th></th>\n",
       "      <th>m49_code</th>\n",
       "      <th>country</th>\n",
       "      <th>region</th>\n",
       "      <th>cpc_code</th>\n",
       "      <th>commodity</th>\n",
       "      <th>year</th>\n",
       "      <th>loss_percentage</th>\n",
       "      <th>loss_percentage_original</th>\n",
       "      <th>loss_quantity</th>\n",
       "      <th>activity</th>\n",
       "      <th>food_supply_stage</th>\n",
       "      <th>treatment</th>\n",
       "      <th>cause_of_loss</th>\n",
       "      <th>sample_size</th>\n",
       "      <th>method_data_collection</th>\n",
       "      <th>reference</th>\n",
       "      <th>url</th>\n",
       "      <th>notes</th>\n",
       "      <th>commodity_group</th>\n",
       "    </tr>\n",
       "  </thead>\n",
       "  <tbody>\n",
       "    <tr>\n",
       "      <th>0</th>\n",
       "      <td>116</td>\n",
       "      <td>Cambodia</td>\n",
       "      <td>Kandal Province, and wholesalers and retailers...</td>\n",
       "      <td>1234.0</td>\n",
       "      <td>Tomatoes</td>\n",
       "      <td>2013</td>\n",
       "      <td>3.5</td>\n",
       "      <td>3.5</td>\n",
       "      <td>NaN</td>\n",
       "      <td>NaN</td>\n",
       "      <td>Trader</td>\n",
       "      <td>NaN</td>\n",
       "      <td>Physical Damage Rotting/Decay</td>\n",
       "      <td>onsite interviews were conducted involving 30 ...</td>\n",
       "      <td>NaN</td>\n",
       "      <td>Buntong, B., 2Srilaong, V., 3Wasusri, T., 2Kan...</td>\n",
       "      <td>http://www.ifrj.upm.edu.my/20%20(01)%202013/31...</td>\n",
       "      <td>NaN</td>\n",
       "      <td>Fruits and Vegetables</td>\n",
       "    </tr>\n",
       "    <tr>\n",
       "      <th>1</th>\n",
       "      <td>116</td>\n",
       "      <td>Cambodia</td>\n",
       "      <td>Kandal Province, and wholesalers and retailers...</td>\n",
       "      <td>1234.0</td>\n",
       "      <td>Tomatoes</td>\n",
       "      <td>2013</td>\n",
       "      <td>12.5</td>\n",
       "      <td>12.5</td>\n",
       "      <td>NaN</td>\n",
       "      <td>NaN</td>\n",
       "      <td>Farm</td>\n",
       "      <td>NaN</td>\n",
       "      <td>Immaturity Insect Damage Rotting/Decay</td>\n",
       "      <td>onsite interviews were conducted involving 30 ...</td>\n",
       "      <td>NaN</td>\n",
       "      <td>Buntong, B., 2Srilaong, V., 3Wasusri, T., 2Kan...</td>\n",
       "      <td>http://www.ifrj.upm.edu.my/20%20(01)%202013/31...</td>\n",
       "      <td>NaN</td>\n",
       "      <td>Fruits and Vegetables</td>\n",
       "    </tr>\n",
       "    <tr>\n",
       "      <th>2</th>\n",
       "      <td>116</td>\n",
       "      <td>Cambodia</td>\n",
       "      <td>Kandal Province, and wholesalers and retailers...</td>\n",
       "      <td>1234.0</td>\n",
       "      <td>Tomatoes</td>\n",
       "      <td>2013</td>\n",
       "      <td>3.5</td>\n",
       "      <td>3.5</td>\n",
       "      <td>NaN</td>\n",
       "      <td>NaN</td>\n",
       "      <td>Retail</td>\n",
       "      <td>NaN</td>\n",
       "      <td>Rotting/Decay Over-Ripening</td>\n",
       "      <td>onsite interviews were conducted involving 30 ...</td>\n",
       "      <td>NaN</td>\n",
       "      <td>Buntong, B., 2Srilaong, V., 3Wasusri, T., 2Kan...</td>\n",
       "      <td>http://www.ifrj.upm.edu.my/20%20(01)%202013/31...</td>\n",
       "      <td>NaN</td>\n",
       "      <td>Fruits and Vegetables</td>\n",
       "    </tr>\n",
       "  </tbody>\n",
       "</table>\n",
       "</div>"
      ],
      "text/plain": [
       "   m49_code   country                                             region  \\\n",
       "0       116  Cambodia  Kandal Province, and wholesalers and retailers...   \n",
       "1       116  Cambodia  Kandal Province, and wholesalers and retailers...   \n",
       "2       116  Cambodia  Kandal Province, and wholesalers and retailers...   \n",
       "\n",
       "   cpc_code commodity  year  loss_percentage loss_percentage_original  \\\n",
       "0    1234.0  Tomatoes  2013              3.5                      3.5   \n",
       "1    1234.0  Tomatoes  2013             12.5                     12.5   \n",
       "2    1234.0  Tomatoes  2013              3.5                      3.5   \n",
       "\n",
       "  loss_quantity activity food_supply_stage treatment  \\\n",
       "0           NaN      NaN            Trader       NaN   \n",
       "1           NaN      NaN              Farm       NaN   \n",
       "2           NaN      NaN            Retail       NaN   \n",
       "\n",
       "                            cause_of_loss  \\\n",
       "0           Physical Damage Rotting/Decay   \n",
       "1  Immaturity Insect Damage Rotting/Decay   \n",
       "2             Rotting/Decay Over-Ripening   \n",
       "\n",
       "                                         sample_size method_data_collection  \\\n",
       "0  onsite interviews were conducted involving 30 ...                    NaN   \n",
       "1  onsite interviews were conducted involving 30 ...                    NaN   \n",
       "2  onsite interviews were conducted involving 30 ...                    NaN   \n",
       "\n",
       "                                           reference  \\\n",
       "0  Buntong, B., 2Srilaong, V., 3Wasusri, T., 2Kan...   \n",
       "1  Buntong, B., 2Srilaong, V., 3Wasusri, T., 2Kan...   \n",
       "2  Buntong, B., 2Srilaong, V., 3Wasusri, T., 2Kan...   \n",
       "\n",
       "                                                 url notes  \\\n",
       "0  http://www.ifrj.upm.edu.my/20%20(01)%202013/31...   NaN   \n",
       "1  http://www.ifrj.upm.edu.my/20%20(01)%202013/31...   NaN   \n",
       "2  http://www.ifrj.upm.edu.my/20%20(01)%202013/31...   NaN   \n",
       "\n",
       "         commodity_group  \n",
       "0  Fruits and Vegetables  \n",
       "1  Fruits and Vegetables  \n",
       "2  Fruits and Vegetables  "
      ]
     },
     "metadata": {},
     "output_type": "display_data"
    }
   ],
   "source": [
    "# Fruits and Vegetables\n",
    "FV_data = pd.read_csv(\"fruits_vegetables_data.csv\")\n",
    "display(FV_data.info())\n",
    "\n",
    "# Add a column with name- \"commodity_group\" and value - \"Fruits and Vegetables\"\n",
    "FV_data['commodity_group'] = \"Fruits and Vegetables\"\n",
    "display(FV_data.head(3))"
   ]
  },
  {
   "cell_type": "code",
   "execution_count": 16,
   "id": "f3d3832a",
   "metadata": {
    "scrolled": true
   },
   "outputs": [
    {
     "name": "stdout",
     "output_type": "stream",
     "text": [
      "<class 'pandas.core.frame.DataFrame'>\n",
      "RangeIndex: 677 entries, 0 to 676\n",
      "Data columns (total 18 columns):\n",
      " #   Column                    Non-Null Count  Dtype  \n",
      "---  ------                    --------------  -----  \n",
      " 0   m49_code                  677 non-null    int64  \n",
      " 1   country                   677 non-null    object \n",
      " 2   region                    4 non-null      object \n",
      " 3   cpc_code                  677 non-null    object \n",
      " 4   commodity                 677 non-null    object \n",
      " 5   year                      677 non-null    int64  \n",
      " 6   loss_percentage           677 non-null    float64\n",
      " 7   loss_percentage_original  677 non-null    object \n",
      " 8   loss_quantity             515 non-null    object \n",
      " 9   activity                  88 non-null     object \n",
      " 10  food_supply_stage         673 non-null    object \n",
      " 11  treatment                 0 non-null      float64\n",
      " 12  cause_of_loss             34 non-null     object \n",
      " 13  sample_size               26 non-null     object \n",
      " 14  method_data_collection    676 non-null    object \n",
      " 15  reference                 653 non-null    object \n",
      " 16  url                       79 non-null     object \n",
      " 17  notes                     53 non-null     object \n",
      "dtypes: float64(2), int64(2), object(14)\n",
      "memory usage: 95.3+ KB\n"
     ]
    },
    {
     "data": {
      "text/plain": [
       "None"
      ]
     },
     "metadata": {},
     "output_type": "display_data"
    },
    {
     "data": {
      "text/html": [
       "<div>\n",
       "<style scoped>\n",
       "    .dataframe tbody tr th:only-of-type {\n",
       "        vertical-align: middle;\n",
       "    }\n",
       "\n",
       "    .dataframe tbody tr th {\n",
       "        vertical-align: top;\n",
       "    }\n",
       "\n",
       "    .dataframe thead th {\n",
       "        text-align: right;\n",
       "    }\n",
       "</style>\n",
       "<table border=\"1\" class=\"dataframe\">\n",
       "  <thead>\n",
       "    <tr style=\"text-align: right;\">\n",
       "      <th></th>\n",
       "      <th>m49_code</th>\n",
       "      <th>country</th>\n",
       "      <th>region</th>\n",
       "      <th>cpc_code</th>\n",
       "      <th>commodity</th>\n",
       "      <th>year</th>\n",
       "      <th>loss_percentage</th>\n",
       "      <th>loss_percentage_original</th>\n",
       "      <th>loss_quantity</th>\n",
       "      <th>activity</th>\n",
       "      <th>food_supply_stage</th>\n",
       "      <th>treatment</th>\n",
       "      <th>cause_of_loss</th>\n",
       "      <th>sample_size</th>\n",
       "      <th>method_data_collection</th>\n",
       "      <th>reference</th>\n",
       "      <th>url</th>\n",
       "      <th>notes</th>\n",
       "      <th>commodity_group</th>\n",
       "    </tr>\n",
       "  </thead>\n",
       "  <tbody>\n",
       "    <tr>\n",
       "      <th>0</th>\n",
       "      <td>124</td>\n",
       "      <td>Canada</td>\n",
       "      <td>NaN</td>\n",
       "      <td>231</td>\n",
       "      <td>Hen eggs in shell, fresh</td>\n",
       "      <td>2018</td>\n",
       "      <td>1.95</td>\n",
       "      <td>1.95%</td>\n",
       "      <td>11120</td>\n",
       "      <td>NaN</td>\n",
       "      <td>Whole supply chain</td>\n",
       "      <td>NaN</td>\n",
       "      <td>NaN</td>\n",
       "      <td>NaN</td>\n",
       "      <td>FAO's annual Agriculture Production Questionna...</td>\n",
       "      <td>FAO Sources</td>\n",
       "      <td>NaN</td>\n",
       "      <td>NaN</td>\n",
       "      <td>Meat and Dairy</td>\n",
       "    </tr>\n",
       "    <tr>\n",
       "      <th>1</th>\n",
       "      <td>124</td>\n",
       "      <td>Canada</td>\n",
       "      <td>NaN</td>\n",
       "      <td>21113.01</td>\n",
       "      <td>Meat of pig, fresh or chilled</td>\n",
       "      <td>2018</td>\n",
       "      <td>8.00</td>\n",
       "      <td>8%</td>\n",
       "      <td>170080</td>\n",
       "      <td>NaN</td>\n",
       "      <td>Whole supply chain</td>\n",
       "      <td>NaN</td>\n",
       "      <td>NaN</td>\n",
       "      <td>NaN</td>\n",
       "      <td>FAO's annual Agriculture Production Questionna...</td>\n",
       "      <td>FAO Sources</td>\n",
       "      <td>NaN</td>\n",
       "      <td>NaN</td>\n",
       "      <td>Meat and Dairy</td>\n",
       "    </tr>\n",
       "    <tr>\n",
       "      <th>2</th>\n",
       "      <td>124</td>\n",
       "      <td>Canada</td>\n",
       "      <td>NaN</td>\n",
       "      <td>231</td>\n",
       "      <td>Hen eggs in shell, fresh</td>\n",
       "      <td>2017</td>\n",
       "      <td>1.95</td>\n",
       "      <td>1.95%</td>\n",
       "      <td>10760</td>\n",
       "      <td>NaN</td>\n",
       "      <td>Whole supply chain</td>\n",
       "      <td>NaN</td>\n",
       "      <td>NaN</td>\n",
       "      <td>NaN</td>\n",
       "      <td>FAO's annual Agriculture Production Questionna...</td>\n",
       "      <td>FAO Sources</td>\n",
       "      <td>NaN</td>\n",
       "      <td>NaN</td>\n",
       "      <td>Meat and Dairy</td>\n",
       "    </tr>\n",
       "  </tbody>\n",
       "</table>\n",
       "</div>"
      ],
      "text/plain": [
       "   m49_code country region  cpc_code                      commodity  year  \\\n",
       "0       124  Canada    NaN       231       Hen eggs in shell, fresh  2018   \n",
       "1       124  Canada    NaN  21113.01  Meat of pig, fresh or chilled  2018   \n",
       "2       124  Canada    NaN       231       Hen eggs in shell, fresh  2017   \n",
       "\n",
       "   loss_percentage loss_percentage_original loss_quantity activity  \\\n",
       "0             1.95                    1.95%         11120      NaN   \n",
       "1             8.00                       8%        170080      NaN   \n",
       "2             1.95                    1.95%         10760      NaN   \n",
       "\n",
       "    food_supply_stage  treatment cause_of_loss sample_size  \\\n",
       "0  Whole supply chain        NaN           NaN         NaN   \n",
       "1  Whole supply chain        NaN           NaN         NaN   \n",
       "2  Whole supply chain        NaN           NaN         NaN   \n",
       "\n",
       "                              method_data_collection    reference  url notes  \\\n",
       "0  FAO's annual Agriculture Production Questionna...  FAO Sources  NaN   NaN   \n",
       "1  FAO's annual Agriculture Production Questionna...  FAO Sources  NaN   NaN   \n",
       "2  FAO's annual Agriculture Production Questionna...  FAO Sources  NaN   NaN   \n",
       "\n",
       "  commodity_group  \n",
       "0  Meat and Dairy  \n",
       "1  Meat and Dairy  \n",
       "2  Meat and Dairy  "
      ]
     },
     "metadata": {},
     "output_type": "display_data"
    }
   ],
   "source": [
    "# meat and dairy\n",
    "MD_data = pd.read_csv(\"meat_dairy_data.csv\")\n",
    "display(MD_data.info())\n",
    "#display(MD_data['country'].unique())\n",
    "\n",
    "# Add a column with name- \"commodity_group\" and value - \"Meat and Dairy\"\n",
    "MD_data['commodity_group'] = \"Meat and Dairy\"\n",
    "display(MD_data.head(3))"
   ]
  },
  {
   "cell_type": "code",
   "execution_count": 17,
   "id": "c6e5ed4e",
   "metadata": {},
   "outputs": [
    {
     "name": "stdout",
     "output_type": "stream",
     "text": [
      "<class 'pandas.core.frame.DataFrame'>\n",
      "RangeIndex: 1436 entries, 0 to 1435\n",
      "Data columns (total 18 columns):\n",
      " #   Column                    Non-Null Count  Dtype  \n",
      "---  ------                    --------------  -----  \n",
      " 0   m49_code                  1436 non-null   int64  \n",
      " 1   country                   1436 non-null   object \n",
      " 2   region                    173 non-null    object \n",
      " 3   cpc_code                  1436 non-null   float64\n",
      " 4   commodity                 1436 non-null   object \n",
      " 5   year                      1436 non-null   int64  \n",
      " 6   loss_percentage           1436 non-null   float64\n",
      " 7   loss_percentage_original  1436 non-null   object \n",
      " 8   loss_quantity             856 non-null    object \n",
      " 9   activity                  497 non-null    object \n",
      " 10  food_supply_stage         1433 non-null   object \n",
      " 11  treatment                 116 non-null    object \n",
      " 12  cause_of_loss             142 non-null    object \n",
      " 13  sample_size               147 non-null    object \n",
      " 14  method_data_collection    1352 non-null   object \n",
      " 15  reference                 1368 non-null   object \n",
      " 16  url                       390 non-null    object \n",
      " 17  notes                     146 non-null    object \n",
      "dtypes: float64(2), int64(2), object(14)\n",
      "memory usage: 202.1+ KB\n"
     ]
    },
    {
     "data": {
      "text/plain": [
       "None"
      ]
     },
     "metadata": {},
     "output_type": "display_data"
    },
    {
     "data": {
      "text/html": [
       "<div>\n",
       "<style scoped>\n",
       "    .dataframe tbody tr th:only-of-type {\n",
       "        vertical-align: middle;\n",
       "    }\n",
       "\n",
       "    .dataframe tbody tr th {\n",
       "        vertical-align: top;\n",
       "    }\n",
       "\n",
       "    .dataframe thead th {\n",
       "        text-align: right;\n",
       "    }\n",
       "</style>\n",
       "<table border=\"1\" class=\"dataframe\">\n",
       "  <thead>\n",
       "    <tr style=\"text-align: right;\">\n",
       "      <th></th>\n",
       "      <th>m49_code</th>\n",
       "      <th>country</th>\n",
       "      <th>region</th>\n",
       "      <th>cpc_code</th>\n",
       "      <th>commodity</th>\n",
       "      <th>year</th>\n",
       "      <th>loss_percentage</th>\n",
       "      <th>loss_percentage_original</th>\n",
       "      <th>loss_quantity</th>\n",
       "      <th>activity</th>\n",
       "      <th>food_supply_stage</th>\n",
       "      <th>treatment</th>\n",
       "      <th>cause_of_loss</th>\n",
       "      <th>sample_size</th>\n",
       "      <th>method_data_collection</th>\n",
       "      <th>reference</th>\n",
       "      <th>url</th>\n",
       "      <th>notes</th>\n",
       "      <th>commodity_group</th>\n",
       "    </tr>\n",
       "  </thead>\n",
       "  <tbody>\n",
       "    <tr>\n",
       "      <th>0</th>\n",
       "      <td>104</td>\n",
       "      <td>Myanmar</td>\n",
       "      <td>NaN</td>\n",
       "      <td>142.0</td>\n",
       "      <td>Groundnuts, excluding shelled</td>\n",
       "      <td>2009</td>\n",
       "      <td>5.22</td>\n",
       "      <td>5.22%</td>\n",
       "      <td>68100</td>\n",
       "      <td>NaN</td>\n",
       "      <td>Whole supply chain</td>\n",
       "      <td>NaN</td>\n",
       "      <td>NaN</td>\n",
       "      <td>NaN</td>\n",
       "      <td>FAO's annual Agriculture Production Questionna...</td>\n",
       "      <td>FAO Sources</td>\n",
       "      <td>NaN</td>\n",
       "      <td>NaN</td>\n",
       "      <td>Roots, Tubers and Oil-bearing Crops</td>\n",
       "    </tr>\n",
       "    <tr>\n",
       "      <th>1</th>\n",
       "      <td>104</td>\n",
       "      <td>Myanmar</td>\n",
       "      <td>NaN</td>\n",
       "      <td>142.0</td>\n",
       "      <td>Groundnuts, excluding shelled</td>\n",
       "      <td>2008</td>\n",
       "      <td>5.43</td>\n",
       "      <td>5.43%</td>\n",
       "      <td>65240</td>\n",
       "      <td>NaN</td>\n",
       "      <td>Whole supply chain</td>\n",
       "      <td>NaN</td>\n",
       "      <td>NaN</td>\n",
       "      <td>NaN</td>\n",
       "      <td>FAO's annual Agriculture Production Questionna...</td>\n",
       "      <td>FAO Sources</td>\n",
       "      <td>NaN</td>\n",
       "      <td>NaN</td>\n",
       "      <td>Roots, Tubers and Oil-bearing Crops</td>\n",
       "    </tr>\n",
       "    <tr>\n",
       "      <th>2</th>\n",
       "      <td>104</td>\n",
       "      <td>Myanmar</td>\n",
       "      <td>NaN</td>\n",
       "      <td>142.0</td>\n",
       "      <td>Groundnuts, excluding shelled</td>\n",
       "      <td>2007</td>\n",
       "      <td>5.61</td>\n",
       "      <td>5.61%</td>\n",
       "      <td>61080</td>\n",
       "      <td>NaN</td>\n",
       "      <td>Whole supply chain</td>\n",
       "      <td>NaN</td>\n",
       "      <td>NaN</td>\n",
       "      <td>NaN</td>\n",
       "      <td>FAO's annual Agriculture Production Questionna...</td>\n",
       "      <td>FAO Sources</td>\n",
       "      <td>NaN</td>\n",
       "      <td>NaN</td>\n",
       "      <td>Roots, Tubers and Oil-bearing Crops</td>\n",
       "    </tr>\n",
       "  </tbody>\n",
       "</table>\n",
       "</div>"
      ],
      "text/plain": [
       "   m49_code  country region  cpc_code                      commodity  year  \\\n",
       "0       104  Myanmar    NaN     142.0  Groundnuts, excluding shelled  2009   \n",
       "1       104  Myanmar    NaN     142.0  Groundnuts, excluding shelled  2008   \n",
       "2       104  Myanmar    NaN     142.0  Groundnuts, excluding shelled  2007   \n",
       "\n",
       "   loss_percentage loss_percentage_original loss_quantity activity  \\\n",
       "0             5.22                    5.22%         68100      NaN   \n",
       "1             5.43                    5.43%         65240      NaN   \n",
       "2             5.61                    5.61%         61080      NaN   \n",
       "\n",
       "    food_supply_stage treatment cause_of_loss sample_size  \\\n",
       "0  Whole supply chain       NaN           NaN         NaN   \n",
       "1  Whole supply chain       NaN           NaN         NaN   \n",
       "2  Whole supply chain       NaN           NaN         NaN   \n",
       "\n",
       "                              method_data_collection    reference  url notes  \\\n",
       "0  FAO's annual Agriculture Production Questionna...  FAO Sources  NaN   NaN   \n",
       "1  FAO's annual Agriculture Production Questionna...  FAO Sources  NaN   NaN   \n",
       "2  FAO's annual Agriculture Production Questionna...  FAO Sources  NaN   NaN   \n",
       "\n",
       "                       commodity_group  \n",
       "0  Roots, Tubers and Oil-bearing Crops  \n",
       "1  Roots, Tubers and Oil-bearing Crops  \n",
       "2  Roots, Tubers and Oil-bearing Crops  "
      ]
     },
     "metadata": {},
     "output_type": "display_data"
    }
   ],
   "source": [
    "# roots_tubers_oil-bearing crops\n",
    "RTO_data = pd.read_csv(\"roots_tubers_oilCrops_data.csv\")\n",
    "display(RTO_data.info())\n",
    "\n",
    "# Add a column with name- \"commodity_group\" and value - \"Roots, Tubers and Oil-bearing Crops\"\n",
    "RTO_data['commodity_group'] = \"Roots, Tubers and Oil-bearing Crops\"\n",
    "display(RTO_data.head(3))"
   ]
  },
  {
   "cell_type": "code",
   "execution_count": 18,
   "id": "05defc1e",
   "metadata": {
    "scrolled": true
   },
   "outputs": [
    {
     "name": "stdout",
     "output_type": "stream",
     "text": [
      "<class 'pandas.core.frame.DataFrame'>\n",
      "RangeIndex: 406 entries, 0 to 405\n",
      "Data columns (total 18 columns):\n",
      " #   Column                    Non-Null Count  Dtype  \n",
      "---  ------                    --------------  -----  \n",
      " 0   m49_code                  406 non-null    int64  \n",
      " 1   country                   406 non-null    object \n",
      " 2   region                    11 non-null     object \n",
      " 3   cpc_code                  406 non-null    object \n",
      " 4   commodity                 406 non-null    object \n",
      " 5   year                      406 non-null    int64  \n",
      " 6   loss_percentage           406 non-null    float64\n",
      " 7   loss_percentage_original  406 non-null    object \n",
      " 8   loss_quantity             150 non-null    object \n",
      " 9   activity                  128 non-null    object \n",
      " 10  food_supply_stage         406 non-null    object \n",
      " 11  treatment                 4 non-null      object \n",
      " 12  cause_of_loss             12 non-null     object \n",
      " 13  sample_size               39 non-null     object \n",
      " 14  method_data_collection    363 non-null    object \n",
      " 15  reference                 291 non-null    object \n",
      " 16  url                       199 non-null    object \n",
      " 17  notes                     39 non-null     object \n",
      "dtypes: float64(1), int64(2), object(15)\n",
      "memory usage: 57.2+ KB\n"
     ]
    },
    {
     "data": {
      "text/plain": [
       "None"
      ]
     },
     "metadata": {},
     "output_type": "display_data"
    },
    {
     "data": {
      "text/html": [
       "<div>\n",
       "<style scoped>\n",
       "    .dataframe tbody tr th:only-of-type {\n",
       "        vertical-align: middle;\n",
       "    }\n",
       "\n",
       "    .dataframe tbody tr th {\n",
       "        vertical-align: top;\n",
       "    }\n",
       "\n",
       "    .dataframe thead th {\n",
       "        text-align: right;\n",
       "    }\n",
       "</style>\n",
       "<table border=\"1\" class=\"dataframe\">\n",
       "  <thead>\n",
       "    <tr style=\"text-align: right;\">\n",
       "      <th></th>\n",
       "      <th>m49_code</th>\n",
       "      <th>country</th>\n",
       "      <th>region</th>\n",
       "      <th>cpc_code</th>\n",
       "      <th>commodity</th>\n",
       "      <th>year</th>\n",
       "      <th>loss_percentage</th>\n",
       "      <th>loss_percentage_original</th>\n",
       "      <th>loss_quantity</th>\n",
       "      <th>activity</th>\n",
       "      <th>food_supply_stage</th>\n",
       "      <th>treatment</th>\n",
       "      <th>cause_of_loss</th>\n",
       "      <th>sample_size</th>\n",
       "      <th>method_data_collection</th>\n",
       "      <th>reference</th>\n",
       "      <th>url</th>\n",
       "      <th>notes</th>\n",
       "      <th>commodity_group</th>\n",
       "    </tr>\n",
       "  </thead>\n",
       "  <tbody>\n",
       "    <tr>\n",
       "      <th>0</th>\n",
       "      <td>320</td>\n",
       "      <td>Guatemala</td>\n",
       "      <td>NaN</td>\n",
       "      <td>1802</td>\n",
       "      <td>Sugar cane</td>\n",
       "      <td>2016</td>\n",
       "      <td>0.84</td>\n",
       "      <td>0.84%</td>\n",
       "      <td>281605</td>\n",
       "      <td>NaN</td>\n",
       "      <td>Whole supply chain</td>\n",
       "      <td>NaN</td>\n",
       "      <td>NaN</td>\n",
       "      <td>NaN</td>\n",
       "      <td>FAO's annual Agriculture Production Questionna...</td>\n",
       "      <td>FAO Sources</td>\n",
       "      <td>NaN</td>\n",
       "      <td>NaN</td>\n",
       "      <td>Others</td>\n",
       "    </tr>\n",
       "    <tr>\n",
       "      <th>1</th>\n",
       "      <td>320</td>\n",
       "      <td>Guatemala</td>\n",
       "      <td>NaN</td>\n",
       "      <td>1802</td>\n",
       "      <td>Sugar cane</td>\n",
       "      <td>2015</td>\n",
       "      <td>0.85</td>\n",
       "      <td>0.85%</td>\n",
       "      <td>287393</td>\n",
       "      <td>NaN</td>\n",
       "      <td>Whole supply chain</td>\n",
       "      <td>NaN</td>\n",
       "      <td>NaN</td>\n",
       "      <td>NaN</td>\n",
       "      <td>FAO's annual Agriculture Production Questionna...</td>\n",
       "      <td>FAO Sources</td>\n",
       "      <td>NaN</td>\n",
       "      <td>NaN</td>\n",
       "      <td>Others</td>\n",
       "    </tr>\n",
       "    <tr>\n",
       "      <th>2</th>\n",
       "      <td>320</td>\n",
       "      <td>Guatemala</td>\n",
       "      <td>NaN</td>\n",
       "      <td>1802</td>\n",
       "      <td>Sugar cane</td>\n",
       "      <td>2014</td>\n",
       "      <td>0.84</td>\n",
       "      <td>0.84%</td>\n",
       "      <td>279135</td>\n",
       "      <td>NaN</td>\n",
       "      <td>Whole supply chain</td>\n",
       "      <td>NaN</td>\n",
       "      <td>NaN</td>\n",
       "      <td>NaN</td>\n",
       "      <td>FAO's annual Agriculture Production Questionna...</td>\n",
       "      <td>FAO Sources</td>\n",
       "      <td>NaN</td>\n",
       "      <td>NaN</td>\n",
       "      <td>Others</td>\n",
       "    </tr>\n",
       "  </tbody>\n",
       "</table>\n",
       "</div>"
      ],
      "text/plain": [
       "   m49_code    country region cpc_code   commodity  year  loss_percentage  \\\n",
       "0       320  Guatemala    NaN     1802  Sugar cane  2016             0.84   \n",
       "1       320  Guatemala    NaN     1802  Sugar cane  2015             0.85   \n",
       "2       320  Guatemala    NaN     1802  Sugar cane  2014             0.84   \n",
       "\n",
       "  loss_percentage_original loss_quantity activity   food_supply_stage  \\\n",
       "0                    0.84%        281605      NaN  Whole supply chain   \n",
       "1                    0.85%        287393      NaN  Whole supply chain   \n",
       "2                    0.84%        279135      NaN  Whole supply chain   \n",
       "\n",
       "  treatment cause_of_loss sample_size  \\\n",
       "0       NaN           NaN         NaN   \n",
       "1       NaN           NaN         NaN   \n",
       "2       NaN           NaN         NaN   \n",
       "\n",
       "                              method_data_collection    reference  url notes  \\\n",
       "0  FAO's annual Agriculture Production Questionna...  FAO Sources  NaN   NaN   \n",
       "1  FAO's annual Agriculture Production Questionna...  FAO Sources  NaN   NaN   \n",
       "2  FAO's annual Agriculture Production Questionna...  FAO Sources  NaN   NaN   \n",
       "\n",
       "  commodity_group  \n",
       "0          Others  \n",
       "1          Others  \n",
       "2          Others  "
      ]
     },
     "metadata": {},
     "output_type": "display_data"
    }
   ],
   "source": [
    "# Others\n",
    "others_data = pd.read_csv(\"other_foods_data.csv\")\n",
    "display(others_data.info())\n",
    "\n",
    "# Add a column with name- \"commodity_group\" and value - \"Others\"\n",
    "others_data['commodity_group'] = \"Others\"\n",
    "display(others_data.head(3))"
   ]
  },
  {
   "cell_type": "code",
   "execution_count": 19,
   "id": "64eec147",
   "metadata": {},
   "outputs": [
    {
     "name": "stdout",
     "output_type": "stream",
     "text": [
      "<class 'pandas.core.frame.DataFrame'>\n",
      "Int64Index: 27653 entries, 0 to 405\n",
      "Data columns (total 19 columns):\n",
      " #   Column                    Non-Null Count  Dtype  \n",
      "---  ------                    --------------  -----  \n",
      " 0   m49_code                  27653 non-null  int64  \n",
      " 1   country                   27653 non-null  object \n",
      " 2   region                    793 non-null    object \n",
      " 3   cpc_code                  27653 non-null  object \n",
      " 4   commodity                 27653 non-null  object \n",
      " 5   year                      27653 non-null  int64  \n",
      " 6   loss_percentage           27653 non-null  float64\n",
      " 7   loss_percentage_original  27653 non-null  object \n",
      " 8   loss_quantity             4552 non-null   object \n",
      " 9   activity                  20788 non-null  object \n",
      " 10  food_supply_stage         27604 non-null  object \n",
      " 11  treatment                 793 non-null    object \n",
      " 12  cause_of_loss             870 non-null    object \n",
      " 13  sample_size               1176 non-null   object \n",
      " 14  method_data_collection    27298 non-null  object \n",
      " 15  reference                 8316 non-null   object \n",
      " 16  url                       21158 non-null  object \n",
      " 17  notes                     1230 non-null   object \n",
      " 18  commodity_group           27653 non-null  object \n",
      "dtypes: float64(1), int64(2), object(16)\n",
      "memory usage: 4.2+ MB\n"
     ]
    },
    {
     "data": {
      "text/plain": [
       "None"
      ]
     },
     "metadata": {},
     "output_type": "display_data"
    }
   ],
   "source": [
    "# Combine all commodity group datasets\n",
    "frames = [CP_data, FV_data, MD_data, RTO_data, others_data]\n",
    "df = pd.concat(frames)\n",
    "display(df.info())"
   ]
  },
  {
   "cell_type": "markdown",
   "id": "4d97127d",
   "metadata": {},
   "source": [
    "### Keep following columns\n",
    "\n",
    "- m49_code\n",
    "\n",
    "- country\n",
    "\n",
    "- cpc_code\n",
    "\n",
    "- commodity_group\n",
    "\n",
    "- commodity\n",
    "\n",
    "- year\n",
    "\n",
    "- loss_percentage\n",
    "\n",
    "- activity\n",
    "\n",
    "- food_supply_stage\n",
    "\n",
    "- method_data_collection\n"
   ]
  },
  {
   "cell_type": "code",
   "execution_count": 20,
   "id": "e32042e6",
   "metadata": {
    "scrolled": true
   },
   "outputs": [
    {
     "data": {
      "text/plain": [
       "149"
      ]
     },
     "metadata": {},
     "output_type": "display_data"
    },
    {
     "name": "stdout",
     "output_type": "stream",
     "text": [
      "<class 'pandas.core.frame.DataFrame'>\n",
      "Int64Index: 27653 entries, 0 to 405\n",
      "Data columns (total 10 columns):\n",
      " #   Column                  Non-Null Count  Dtype  \n",
      "---  ------                  --------------  -----  \n",
      " 0   m49_code                27653 non-null  object \n",
      " 1   country                 27653 non-null  object \n",
      " 2   cpc_code                27653 non-null  object \n",
      " 3   commodity_group         27653 non-null  object \n",
      " 4   commodity               27653 non-null  object \n",
      " 5   year                    27653 non-null  int64  \n",
      " 6   loss_percentage         27653 non-null  float64\n",
      " 7   activity                20788 non-null  object \n",
      " 8   food_supply_stage       27604 non-null  object \n",
      " 9   method_data_collection  27298 non-null  object \n",
      "dtypes: float64(1), int64(1), object(8)\n",
      "memory usage: 2.3+ MB\n"
     ]
    },
    {
     "data": {
      "text/plain": [
       "None"
      ]
     },
     "metadata": {},
     "output_type": "display_data"
    }
   ],
   "source": [
    "df2 = df[['m49_code', 'country', 'cpc_code', 'commodity_group', 'commodity', 'year', 'loss_percentage',\n",
    "         'activity', 'food_supply_stage', 'method_data_collection']]\n",
    "\n",
    "display(df2['country'].nunique())\n",
    "\n",
    "df2 = df2.astype({'m49_code': 'str'})\n",
    "display(df2.info())"
   ]
  },
  {
   "cell_type": "markdown",
   "id": "9da20461",
   "metadata": {},
   "source": [
    "### Check for missing data"
   ]
  },
  {
   "cell_type": "code",
   "execution_count": 21,
   "id": "95451c1c",
   "metadata": {
    "scrolled": false
   },
   "outputs": [
    {
     "data": {
      "text/plain": [
       "m49_code                     0\n",
       "country                      0\n",
       "cpc_code                     0\n",
       "commodity_group              0\n",
       "commodity                    0\n",
       "year                         0\n",
       "loss_percentage              0\n",
       "activity                  6865\n",
       "food_supply_stage           49\n",
       "method_data_collection     355\n",
       "dtype: int64"
      ]
     },
     "execution_count": 21,
     "metadata": {},
     "output_type": "execute_result"
    }
   ],
   "source": [
    "df2.isnull().sum()"
   ]
  },
  {
   "cell_type": "markdown",
   "id": "63eb0b30",
   "metadata": {},
   "source": [
    "### Add country information dataset"
   ]
  },
  {
   "cell_type": "code",
   "execution_count": 22,
   "id": "ce88f1cb",
   "metadata": {},
   "outputs": [
    {
     "name": "stdout",
     "output_type": "stream",
     "text": [
      "<class 'pandas.core.frame.DataFrame'>\n",
      "RangeIndex: 249 entries, 0 to 248\n",
      "Data columns (total 3 columns):\n",
      " #   Column        Non-Null Count  Dtype \n",
      "---  ------        --------------  ----- \n",
      " 0   country       249 non-null    object\n",
      " 1   m49_code      249 non-null    object\n",
      " 2   country_code  248 non-null    object\n",
      "dtypes: object(3)\n",
      "memory usage: 6.0+ KB\n"
     ]
    },
    {
     "data": {
      "text/plain": [
       "array(['12', '818', '434', '504', '729', '788', '732', '86', '108', '174',\n",
       "       '262', '232', '231', '260', '404', '450', '454', '480', '175',\n",
       "       '508', '638', '646', '690', '706', '728', '800', '834', '894',\n",
       "       '716', '24', '120', '140', '148', '178', '180', '226', '266',\n",
       "       '678', '72', '748', '426', '516', '710', '204', '854', '132',\n",
       "       '384', '270', '288', '324', '624', '430', '466', '478', '562',\n",
       "       '566', '654', '686', '694', '768', '660', '28', '533', '44', '52',\n",
       "       ' Sint Eustatius and Saba', '92', '136', '192', '531', '212',\n",
       "       '214', '308', '312', '332', '388', '474', '500', '630', '652',\n",
       "       '659', '662', '663', '670', '534', '780', '796', '850', '84',\n",
       "       '188', '222', '320', '340', '484', '558', '591', '32', '68', '74',\n",
       "       '76', '152', '170', '218', '238', '254', '328', '600', '604',\n",
       "       '239', '740', '858', '862', '60', '124', '304', '666', '840', '10',\n",
       "       '398', '417', '762', '795', '860', '156',\n",
       "       ' Hong Kong Special Administrative Region',\n",
       "       ' Macao Special Administrative Region', '408', '392', '496', '410',\n",
       "       '96', '116', '360', '418', '458', '104', '608', '702', '764',\n",
       "       '626', '704', '4', '50', '64', '356', '364', '462', '524', '586',\n",
       "       '144', '51', '31', '48', '196', '268', '368', '376', '400', '414',\n",
       "       '422', '512', '634', '682', '275', '760', '792', '784', '887',\n",
       "       '112', '100', '203', '348', '616', '498', '642', '643', '703',\n",
       "       '804', '248', '831', '832', '680', '208', '233', '234', '246',\n",
       "       '352', '372', '833', '428', '440', '578', '744', '752', '826', '8',\n",
       "       '20', '70', '191', '292', '300', '336', '380', '470', '499', '807',\n",
       "       '620', '674', '688', '705', '724', '40', '56', '250', '276', '438',\n",
       "       '442', '492', '528', '756', '36', '162', '166', '334', '554',\n",
       "       '574', '242', '540', '598', '90', '548', '316', '296', '584',\n",
       "       '583', '520', '580', '585', '581', '16', '184', '258', '570',\n",
       "       '612', '882', '772', '776', '798', '876'], dtype=object)"
      ]
     },
     "metadata": {},
     "output_type": "display_data"
    }
   ],
   "source": [
    "unsd = pd.read_csv(\"UNSD.csv\")\n",
    "\n",
    "\n",
    "unsd_2 = unsd[['Country or Area', 'M49 Code', 'ISO-alpha3 Code']]\n",
    "unsd_2.columns = ['country', 'm49_code', 'country_code']\n",
    "unsd_2.info()\n",
    "\n",
    "display(unsd_2['m49_code'].unique())"
   ]
  },
  {
   "cell_type": "code",
   "execution_count": 23,
   "id": "0310180d",
   "metadata": {
    "scrolled": true
   },
   "outputs": [
    {
     "data": {
      "text/plain": [
       "country_code     0\n",
       "region          46\n",
       "income_group    47\n",
       "dtype: int64"
      ]
     },
     "metadata": {},
     "output_type": "display_data"
    },
    {
     "name": "stdout",
     "output_type": "stream",
     "text": [
      "<class 'pandas.core.frame.DataFrame'>\n",
      "RangeIndex: 239 entries, 0 to 238\n",
      "Data columns (total 3 columns):\n",
      " #   Column        Non-Null Count  Dtype \n",
      "---  ------        --------------  ----- \n",
      " 0   country_code  239 non-null    object\n",
      " 1   region        193 non-null    object\n",
      " 2   income_group  192 non-null    object\n",
      "dtypes: object(3)\n",
      "memory usage: 5.7+ KB\n"
     ]
    },
    {
     "data": {
      "text/plain": [
       "None"
      ]
     },
     "metadata": {},
     "output_type": "display_data"
    }
   ],
   "source": [
    "countryData = pd.read_csv('ESGCountry.csv')\n",
    "#display(countryData)\n",
    "country_df1 = countryData[['Country Code', 'Region', 'Income Group']]\n",
    "country_df1.columns = country_df1.columns.str.replace(' ', '_').str.lower()\n",
    "display(country_df1.isna().sum())\n",
    "display(country_df1.info())"
   ]
  },
  {
   "cell_type": "code",
   "execution_count": 24,
   "id": "bf8f1e0f",
   "metadata": {
    "scrolled": false
   },
   "outputs": [
    {
     "name": "stdout",
     "output_type": "stream",
     "text": [
      "<class 'pandas.core.frame.DataFrame'>\n",
      "Int64Index: 249 entries, 0 to 248\n",
      "Data columns (total 4 columns):\n",
      " #   Column        Non-Null Count  Dtype \n",
      "---  ------        --------------  ----- \n",
      " 0   m49_code      249 non-null    object\n",
      " 1   country_code  248 non-null    object\n",
      " 2   region        193 non-null    object\n",
      " 3   income_group  192 non-null    object\n",
      "dtypes: object(4)\n",
      "memory usage: 9.7+ KB\n"
     ]
    },
    {
     "data": {
      "text/plain": [
       "None"
      ]
     },
     "metadata": {},
     "output_type": "display_data"
    }
   ],
   "source": [
    "# Combine the two datasets by inner_join on country_code\n",
    "country_df2 = pd.merge(unsd_2, country_df1, on='country_code', how='left')\n",
    "country_df3 = country_df2.drop('country', axis=1)\n",
    "display(country_df3.info())"
   ]
  },
  {
   "cell_type": "code",
   "execution_count": 25,
   "id": "bf790814",
   "metadata": {
    "scrolled": true
   },
   "outputs": [
    {
     "name": "stdout",
     "output_type": "stream",
     "text": [
      "<class 'pandas.core.frame.DataFrame'>\n",
      "Int64Index: 27653 entries, 0 to 27652\n",
      "Data columns (total 13 columns):\n",
      " #   Column                  Non-Null Count  Dtype  \n",
      "---  ------                  --------------  -----  \n",
      " 0   m49_code                27653 non-null  object \n",
      " 1   country                 27653 non-null  object \n",
      " 2   cpc_code                27653 non-null  object \n",
      " 3   commodity_group         27653 non-null  object \n",
      " 4   commodity               27653 non-null  object \n",
      " 5   year                    27653 non-null  int64  \n",
      " 6   loss_percentage         27653 non-null  float64\n",
      " 7   activity                20788 non-null  object \n",
      " 8   food_supply_stage       27604 non-null  object \n",
      " 9   method_data_collection  27298 non-null  object \n",
      " 10  country_code            27583 non-null  object \n",
      " 11  region                  27577 non-null  object \n",
      " 12  income_group            27252 non-null  object \n",
      "dtypes: float64(1), int64(1), object(11)\n",
      "memory usage: 3.0+ MB\n"
     ]
    },
    {
     "data": {
      "text/plain": [
       "None"
      ]
     },
     "metadata": {},
     "output_type": "display_data"
    },
    {
     "data": {
      "text/plain": [
       "array([2020, 2019, 2018, 2017, 2016, 2015, 2014, 2013, 2012, 2011, 2010,\n",
       "       2009, 2008, 2007, 2006, 2005, 2004, 2003, 2002, 2001, 2000, 2021],\n",
       "      dtype=int64)"
      ]
     },
     "metadata": {},
     "output_type": "display_data"
    }
   ],
   "source": [
    "# Combine country data with original dataframe\n",
    "df3 = pd.merge(df2, country_df3, how='left', on='m49_code')\n",
    "display(df3.info())\n",
    "\n",
    "display(df3['year'].unique())"
   ]
  },
  {
   "cell_type": "markdown",
   "id": "501b68a5",
   "metadata": {},
   "source": [
    "#### Population data for countries"
   ]
  },
  {
   "cell_type": "code",
   "execution_count": 26,
   "id": "e482bd55",
   "metadata": {},
   "outputs": [
    {
     "name": "stdout",
     "output_type": "stream",
     "text": [
      "<class 'pandas.core.frame.DataFrame'>\n",
      "Int64Index: 5586 entries, 10640 to 16225\n",
      "Data columns (total 3 columns):\n",
      " #   Column            Non-Null Count  Dtype  \n",
      "---  ------            --------------  -----  \n",
      " 0   country_code      5586 non-null   object \n",
      " 1   year              5586 non-null   int32  \n",
      " 2   total_population  5556 non-null   float64\n",
      "dtypes: float64(1), int32(1), object(1)\n",
      "memory usage: 152.7+ KB\n"
     ]
    },
    {
     "data": {
      "text/plain": [
       "None"
      ]
     },
     "metadata": {},
     "output_type": "display_data"
    },
    {
     "data": {
      "text/plain": [
       "266"
      ]
     },
     "metadata": {},
     "output_type": "display_data"
    }
   ],
   "source": [
    "population = pd.read_csv('totalPopulation.csv')\n",
    "population.columns = population.columns.str.replace(' ', '_')\n",
    "\n",
    "# Change data from wide to long format\n",
    "population = population.drop(columns=['Indicator_Name', 'Indicator_Code', 'Country_Name']).melt(value_name='total_population', var_name='Year', id_vars=['Country_Code'])\n",
    "#population.info()\n",
    "#display(population['Year'].unique())\n",
    "\n",
    "# Retain years >= 2000\n",
    "population = population.astype({'Year': int})\n",
    "population = population[population['Year'] >= 2000]\n",
    "#population = population.astype({'Year': str})\n",
    "#display(population['Year'].unique())\n",
    "\n",
    "population.columns = population.columns.str.lower()\n",
    "display(population.info())\n",
    "display(population['country_code'].nunique())"
   ]
  },
  {
   "cell_type": "code",
   "execution_count": 27,
   "id": "f019e9b3",
   "metadata": {
    "scrolled": false
   },
   "outputs": [
    {
     "name": "stdout",
     "output_type": "stream",
     "text": [
      "<class 'pandas.core.frame.DataFrame'>\n",
      "Int64Index: 27653 entries, 0 to 27652\n",
      "Data columns (total 14 columns):\n",
      " #   Column                  Non-Null Count  Dtype  \n",
      "---  ------                  --------------  -----  \n",
      " 0   m49_code                27653 non-null  object \n",
      " 1   country                 27653 non-null  object \n",
      " 2   cpc_code                27653 non-null  object \n",
      " 3   commodity_group         27653 non-null  object \n",
      " 4   commodity               27653 non-null  object \n",
      " 5   year                    27653 non-null  int64  \n",
      " 6   loss_percentage         27653 non-null  float64\n",
      " 7   activity                20788 non-null  object \n",
      " 8   food_supply_stage       27604 non-null  object \n",
      " 9   method_data_collection  27298 non-null  object \n",
      " 10  country_code            27583 non-null  object \n",
      " 11  region                  27577 non-null  object \n",
      " 12  income_group            27252 non-null  object \n",
      " 13  total_population        27368 non-null  float64\n",
      "dtypes: float64(2), int64(1), object(11)\n",
      "memory usage: 3.2+ MB\n"
     ]
    },
    {
     "data": {
      "text/plain": [
       "None"
      ]
     },
     "metadata": {},
     "output_type": "display_data"
    }
   ],
   "source": [
    "# Combine population data to the dataframe\n",
    "df4 = pd.merge(df3, population, on=['country_code', 'year'], how='left')\n",
    "display(df4.info())"
   ]
  },
  {
   "cell_type": "code",
   "execution_count": 28,
   "id": "012b3d52",
   "metadata": {
    "scrolled": true
   },
   "outputs": [
    {
     "data": {
      "text/plain": [
       "array(['Sub-Saharan Africa', nan, 'North America', 'South Asia',\n",
       "       'East Asia & Pacific', 'Latin America & Caribbean',\n",
       "       'Europe & Central Asia', 'Middle East & North Africa'],\n",
       "      dtype=object)"
      ]
     },
     "metadata": {},
     "output_type": "display_data"
    }
   ],
   "source": [
    "display(df4['region'].unique())"
   ]
  },
  {
   "cell_type": "markdown",
   "id": "0e156229",
   "metadata": {},
   "source": [
    "#### Undernourishment data for countries"
   ]
  },
  {
   "cell_type": "code",
   "execution_count": 29,
   "id": "bbb4a61a",
   "metadata": {},
   "outputs": [
    {
     "name": "stdout",
     "output_type": "stream",
     "text": [
      "<class 'pandas.core.frame.DataFrame'>\n",
      "RangeIndex: 3613 entries, 0 to 3612\n",
      "Data columns (total 4 columns):\n",
      " #   Column                                            Non-Null Count  Dtype  \n",
      "---  ------                                            --------------  -----  \n",
      " 0   Entity                                            3613 non-null   object \n",
      " 1   Code                                              2790 non-null   object \n",
      " 2   Year                                              3613 non-null   int64  \n",
      " 3   Prevalence of undernourishment (% of population)  3613 non-null   float64\n",
      "dtypes: float64(1), int64(1), object(2)\n",
      "memory usage: 113.0+ KB\n"
     ]
    },
    {
     "data": {
      "text/plain": [
       "None"
      ]
     },
     "metadata": {},
     "output_type": "display_data"
    },
    {
     "name": "stdout",
     "output_type": "stream",
     "text": [
      "<class 'pandas.core.frame.DataFrame'>\n",
      "Int64Index: 2790 entries, 0 to 3612\n",
      "Data columns (total 3 columns):\n",
      " #   Column                                Non-Null Count  Dtype  \n",
      "---  ------                                --------------  -----  \n",
      " 0   country_code                          2790 non-null   object \n",
      " 1   year                                  2790 non-null   int64  \n",
      " 2   undernourishment_prevalence_perc_pop  2790 non-null   float64\n",
      "dtypes: float64(1), int64(1), object(1)\n",
      "memory usage: 87.2+ KB\n"
     ]
    },
    {
     "data": {
      "text/plain": [
       "None"
      ]
     },
     "metadata": {},
     "output_type": "display_data"
    },
    {
     "data": {
      "text/plain": [
       "155"
      ]
     },
     "metadata": {},
     "output_type": "display_data"
    }
   ],
   "source": [
    "undernourishment = pd.read_csv('undernourishment.csv')\n",
    "display(undernourishment.info())\n",
    "\n",
    "undernourishment = undernourishment.drop('Entity', axis=1)\n",
    "undernourishment.columns = ['country_code', 'year', 'undernourishment_prevalence_perc_pop']\n",
    "\n",
    "# Remove missing data\n",
    "undernourishment = undernourishment[undernourishment['country_code'].notna()]\n",
    "\n",
    "display(undernourishment.info())\n",
    "display(undernourishment['country_code'].nunique())"
   ]
  },
  {
   "cell_type": "code",
   "execution_count": 30,
   "id": "31d1e289",
   "metadata": {},
   "outputs": [
    {
     "name": "stdout",
     "output_type": "stream",
     "text": [
      "<class 'pandas.core.frame.DataFrame'>\n",
      "Int64Index: 27653 entries, 0 to 27652\n",
      "Data columns (total 15 columns):\n",
      " #   Column                                Non-Null Count  Dtype  \n",
      "---  ------                                --------------  -----  \n",
      " 0   m49_code                              27653 non-null  object \n",
      " 1   country                               27653 non-null  object \n",
      " 2   cpc_code                              27653 non-null  object \n",
      " 3   commodity_group                       27653 non-null  object \n",
      " 4   commodity                             27653 non-null  object \n",
      " 5   year                                  27653 non-null  int64  \n",
      " 6   loss_percentage                       27653 non-null  float64\n",
      " 7   activity                              20788 non-null  object \n",
      " 8   food_supply_stage                     27604 non-null  object \n",
      " 9   method_data_collection                27298 non-null  object \n",
      " 10  country_code                          27583 non-null  object \n",
      " 11  region                                27577 non-null  object \n",
      " 12  income_group                          27252 non-null  object \n",
      " 13  total_population                      27368 non-null  float64\n",
      " 14  undernourishment_prevalence_perc_pop  20171 non-null  float64\n",
      "dtypes: float64(3), int64(1), object(11)\n",
      "memory usage: 3.4+ MB\n"
     ]
    },
    {
     "data": {
      "text/plain": [
       "None"
      ]
     },
     "metadata": {},
     "output_type": "display_data"
    }
   ],
   "source": [
    "# Merge undernourishment data to the dataframe\n",
    "df5 = pd.merge(df4, undernourishment, on=['country_code', 'year'], how='left')\n",
    "display(df5.info())"
   ]
  },
  {
   "cell_type": "code",
   "execution_count": 31,
   "id": "63ea1654",
   "metadata": {},
   "outputs": [],
   "source": [
    "# Save dataframe\n",
    "#df5.to_csv('./CleanedData/foodWaste.csv', index=False)"
   ]
  },
  {
   "cell_type": "markdown",
   "id": "2eeecabc",
   "metadata": {},
   "source": [
    "### Historical Emissions Data"
   ]
  },
  {
   "cell_type": "code",
   "execution_count": 2,
   "id": "34eaf715",
   "metadata": {
    "scrolled": false
   },
   "outputs": [
    {
     "name": "stdout",
     "output_type": "stream",
     "text": [
      "<class 'pandas.core.frame.DataFrame'>\n",
      "RangeIndex: 9082 entries, 0 to 9081\n",
      "Data columns (total 34 columns):\n",
      " #   Column       Non-Null Count  Dtype  \n",
      "---  ------       --------------  -----  \n",
      " 0   Country      9082 non-null   object \n",
      " 1   Data source  9082 non-null   object \n",
      " 2   Sector       9082 non-null   object \n",
      " 3   Gas          9082 non-null   object \n",
      " 4   Unit         9082 non-null   object \n",
      " 5   2018         8906 non-null   float64\n",
      " 6   2017         8906 non-null   float64\n",
      " 7   2016         8907 non-null   float64\n",
      " 8   2015         8907 non-null   float64\n",
      " 9   2014         9080 non-null   float64\n",
      " 10  2013         9080 non-null   float64\n",
      " 11  2012         9080 non-null   float64\n",
      " 12  2011         9071 non-null   float64\n",
      " 13  2010         9069 non-null   float64\n",
      " 14  2009         9069 non-null   float64\n",
      " 15  2008         9068 non-null   float64\n",
      " 16  2007         9068 non-null   float64\n",
      " 17  2006         9069 non-null   float64\n",
      " 18  2005         9067 non-null   float64\n",
      " 19  2004         9056 non-null   float64\n",
      " 20  2003         9056 non-null   float64\n",
      " 21  2002         9055 non-null   float64\n",
      " 22  2001         9055 non-null   float64\n",
      " 23  2000         9054 non-null   float64\n",
      " 24  1999         9010 non-null   float64\n",
      " 25  1998         9010 non-null   float64\n",
      " 26  1997         9010 non-null   float64\n",
      " 27  1996         9010 non-null   float64\n",
      " 28  1995         9010 non-null   float64\n",
      " 29  1994         8999 non-null   float64\n",
      " 30  1993         8998 non-null   float64\n",
      " 31  1992         8996 non-null   float64\n",
      " 32  1991         8966 non-null   float64\n",
      " 33  1990         8915 non-null   float64\n",
      "dtypes: float64(29), object(5)\n",
      "memory usage: 2.4+ MB\n"
     ]
    },
    {
     "data": {
      "text/plain": [
       "None"
      ]
     },
     "metadata": {},
     "output_type": "display_data"
    }
   ],
   "source": [
    "emission = pd.read_csv(\"historical_emissions.csv\")\n",
    "display(emission.info())"
   ]
  },
  {
   "cell_type": "code",
   "execution_count": 3,
   "id": "b9b18dc8",
   "metadata": {
    "scrolled": true
   },
   "outputs": [
    {
     "name": "stdout",
     "output_type": "stream",
     "text": [
      "<class 'pandas.core.frame.DataFrame'>\n",
      "RangeIndex: 263378 entries, 0 to 263377\n",
      "Data columns (total 5 columns):\n",
      " #   Column    Non-Null Count   Dtype  \n",
      "---  ------    --------------   -----  \n",
      " 0   Country   263378 non-null  object \n",
      " 1   Sector    263378 non-null  object \n",
      " 2   Gas       263378 non-null  object \n",
      " 3   year      263378 non-null  object \n",
      " 4   emission  261547 non-null  float64\n",
      "dtypes: float64(1), object(4)\n",
      "memory usage: 10.0+ MB\n"
     ]
    },
    {
     "data": {
      "text/html": [
       "<div>\n",
       "<style scoped>\n",
       "    .dataframe tbody tr th:only-of-type {\n",
       "        vertical-align: middle;\n",
       "    }\n",
       "\n",
       "    .dataframe tbody tr th {\n",
       "        vertical-align: top;\n",
       "    }\n",
       "\n",
       "    .dataframe thead th {\n",
       "        text-align: right;\n",
       "    }\n",
       "</style>\n",
       "<table border=\"1\" class=\"dataframe\">\n",
       "  <thead>\n",
       "    <tr style=\"text-align: right;\">\n",
       "      <th></th>\n",
       "      <th>Country</th>\n",
       "      <th>Sector</th>\n",
       "      <th>Gas</th>\n",
       "      <th>year</th>\n",
       "      <th>emission</th>\n",
       "    </tr>\n",
       "  </thead>\n",
       "  <tbody>\n",
       "    <tr>\n",
       "      <th>0</th>\n",
       "      <td>Afghanistan</td>\n",
       "      <td>Total excluding LUCF</td>\n",
       "      <td>All GHG</td>\n",
       "      <td>2018</td>\n",
       "      <td>98.92</td>\n",
       "    </tr>\n",
       "    <tr>\n",
       "      <th>1</th>\n",
       "      <td>Afghanistan</td>\n",
       "      <td>Total including LUCF</td>\n",
       "      <td>All GHG</td>\n",
       "      <td>2018</td>\n",
       "      <td>99.08</td>\n",
       "    </tr>\n",
       "    <tr>\n",
       "      <th>2</th>\n",
       "      <td>Afghanistan</td>\n",
       "      <td>Energy</td>\n",
       "      <td>All GHG</td>\n",
       "      <td>2018</td>\n",
       "      <td>79.58</td>\n",
       "    </tr>\n",
       "    <tr>\n",
       "      <th>3</th>\n",
       "      <td>Afghanistan</td>\n",
       "      <td>Industrial Processes</td>\n",
       "      <td>All GHG</td>\n",
       "      <td>2018</td>\n",
       "      <td>1.06</td>\n",
       "    </tr>\n",
       "    <tr>\n",
       "      <th>4</th>\n",
       "      <td>Afghanistan</td>\n",
       "      <td>Agriculture</td>\n",
       "      <td>All GHG</td>\n",
       "      <td>2018</td>\n",
       "      <td>14.74</td>\n",
       "    </tr>\n",
       "    <tr>\n",
       "      <th>...</th>\n",
       "      <td>...</td>\n",
       "      <td>...</td>\n",
       "      <td>...</td>\n",
       "      <td>...</td>\n",
       "      <td>...</td>\n",
       "    </tr>\n",
       "    <tr>\n",
       "      <th>263373</th>\n",
       "      <td>Zimbabwe</td>\n",
       "      <td>Other Fuel Combustion</td>\n",
       "      <td>N2O</td>\n",
       "      <td>1990</td>\n",
       "      <td>0.41</td>\n",
       "    </tr>\n",
       "    <tr>\n",
       "      <th>263374</th>\n",
       "      <td>Zimbabwe</td>\n",
       "      <td>Fugitive Emissions</td>\n",
       "      <td>N2O</td>\n",
       "      <td>1990</td>\n",
       "      <td>0.00</td>\n",
       "    </tr>\n",
       "    <tr>\n",
       "      <th>263375</th>\n",
       "      <td>Zimbabwe</td>\n",
       "      <td>Total excluding LUCF</td>\n",
       "      <td>F-Gas</td>\n",
       "      <td>1990</td>\n",
       "      <td>0.07</td>\n",
       "    </tr>\n",
       "    <tr>\n",
       "      <th>263376</th>\n",
       "      <td>Zimbabwe</td>\n",
       "      <td>Total including LUCF</td>\n",
       "      <td>F-Gas</td>\n",
       "      <td>1990</td>\n",
       "      <td>0.07</td>\n",
       "    </tr>\n",
       "    <tr>\n",
       "      <th>263377</th>\n",
       "      <td>Zimbabwe</td>\n",
       "      <td>Industrial Processes</td>\n",
       "      <td>F-Gas</td>\n",
       "      <td>1990</td>\n",
       "      <td>0.07</td>\n",
       "    </tr>\n",
       "  </tbody>\n",
       "</table>\n",
       "<p>263378 rows × 5 columns</p>\n",
       "</div>"
      ],
      "text/plain": [
       "            Country                 Sector      Gas  year  emission\n",
       "0       Afghanistan   Total excluding LUCF  All GHG  2018     98.92\n",
       "1       Afghanistan   Total including LUCF  All GHG  2018     99.08\n",
       "2       Afghanistan                 Energy  All GHG  2018     79.58\n",
       "3       Afghanistan   Industrial Processes  All GHG  2018      1.06\n",
       "4       Afghanistan            Agriculture  All GHG  2018     14.74\n",
       "...             ...                    ...      ...   ...       ...\n",
       "263373     Zimbabwe  Other Fuel Combustion      N2O  1990      0.41\n",
       "263374     Zimbabwe     Fugitive Emissions      N2O  1990      0.00\n",
       "263375     Zimbabwe   Total excluding LUCF    F-Gas  1990      0.07\n",
       "263376     Zimbabwe   Total including LUCF    F-Gas  1990      0.07\n",
       "263377     Zimbabwe   Industrial Processes    F-Gas  1990      0.07\n",
       "\n",
       "[263378 rows x 5 columns]"
      ]
     },
     "metadata": {},
     "output_type": "display_data"
    },
    {
     "data": {
      "text/plain": [
       "array(['2018', '2017', '2016', '2015', '2014', '2013', '2012', '2011',\n",
       "       '2010', '2009', '2008', '2007', '2006', '2005', '2004', '2003',\n",
       "       '2002', '2001', '2000', '1999', '1998', '1997', '1996', '1995',\n",
       "       '1994', '1993', '1992', '1991', '1990'], dtype=object)"
      ]
     },
     "metadata": {},
     "output_type": "display_data"
    }
   ],
   "source": [
    "# Change data from wide to long format\n",
    "emission = emission.drop(columns=['Data source', 'Unit']).melt(value_name='emission', var_name='year', id_vars=['Country', 'Sector', 'Gas'])\n",
    "emission.info()\n",
    "display(emission)\n",
    "display(emission['year'].unique())"
   ]
  },
  {
   "cell_type": "code",
   "execution_count": 6,
   "id": "ffcf21a6",
   "metadata": {},
   "outputs": [],
   "source": [
    "# Retain years >= 2000\n",
    "emission2 = emission.copy()\n",
    "emission2 = emission2.astype({'year': int})\n",
    "emission2 = emission2[emission2['year'] >= 2000]\n",
    "emission2 = emission2.astype({'year': str})\n",
    "\n",
    "#emission2.to_csv('./CleanedData/emissions2.csv', index=False)"
   ]
  },
  {
   "cell_type": "code",
   "execution_count": 5,
   "id": "a0f30f7d",
   "metadata": {},
   "outputs": [
    {
     "name": "stdout",
     "output_type": "stream",
     "text": [
      "<class 'pandas.core.frame.DataFrame'>\n",
      "Int64Index: 172558 entries, 0 to 172557\n",
      "Data columns (total 5 columns):\n",
      " #   Column    Non-Null Count   Dtype  \n",
      "---  ------    --------------   -----  \n",
      " 0   Country   172558 non-null  object \n",
      " 1   Sector    172558 non-null  object \n",
      " 2   Gas       172558 non-null  object \n",
      " 3   year      172558 non-null  object \n",
      " 4   emission  171623 non-null  float64\n",
      "dtypes: float64(1), object(4)\n",
      "memory usage: 7.9+ MB\n"
     ]
    },
    {
     "data": {
      "text/plain": [
       "None"
      ]
     },
     "metadata": {},
     "output_type": "display_data"
    },
    {
     "data": {
      "text/plain": [
       "array(['Total excluding LUCF', 'Total including LUCF', 'Energy',\n",
       "       'Industrial Processes', 'Agriculture', 'Waste',\n",
       "       'Land-Use Change and Forestry', 'Bunker Fuels', 'Electricity/Heat',\n",
       "       'Manufacturing/Construction', 'Transportation', 'Building',\n",
       "       'Other Fuel Combustion', 'Fugitive Emissions'], dtype=object)"
      ]
     },
     "metadata": {},
     "output_type": "display_data"
    }
   ],
   "source": [
    "display(emission2.info())\n",
    "display(emission['Sector'].unique())"
   ]
  },
  {
   "cell_type": "code",
   "execution_count": 26,
   "id": "8d10c809",
   "metadata": {
    "scrolled": false
   },
   "outputs": [
    {
     "name": "stdout",
     "output_type": "stream",
     "text": [
      "<class 'pandas.core.frame.DataFrame'>\n",
      "Int64Index: 69825 entries, 2 to 172557\n",
      "Data columns (total 5 columns):\n",
      " #   Column    Non-Null Count  Dtype  \n",
      "---  ------    --------------  -----  \n",
      " 0   country   69825 non-null  object \n",
      " 1   sector    69825 non-null  object \n",
      " 2   gas       69825 non-null  object \n",
      " 3   year      69825 non-null  object \n",
      " 4   emission  69757 non-null  float64\n",
      "dtypes: float64(1), object(4)\n",
      "memory usage: 3.2+ MB\n"
     ]
    },
    {
     "data": {
      "text/plain": [
       "None"
      ]
     },
     "metadata": {},
     "output_type": "display_data"
    }
   ],
   "source": [
    "# Include data for sectors- Energy, Waste, Agriculture, Industrial Processes, Transportation, 'Electricity/Heat'\n",
    "sectors_to_include = ['Energy', 'Industrial Processes', 'Agriculture', 'Waste',\n",
    "                     'Transportation', 'Electricity/Heat']\n",
    "\n",
    "emission3 = emission2[emission2['Sector'].isin(sectors_to_include)]\n",
    "emission3.columns = emission3.columns.str.lower()\n",
    "display(emission3.info())\n",
    "\n",
    "# Save dataframe\n",
    "#emission3.to_csv('./CleanedData/emissions.csv', index=False)"
   ]
  },
  {
   "cell_type": "markdown",
   "id": "c2bd01f2",
   "metadata": {},
   "source": [
    "### Hunger and Undernourishment Data"
   ]
  },
  {
   "cell_type": "code",
   "execution_count": null,
   "id": "eef51f31",
   "metadata": {},
   "outputs": [],
   "source": []
  }
 ],
 "metadata": {
  "kernelspec": {
   "display_name": "Python 3 (ipykernel)",
   "language": "python",
   "name": "python3"
  },
  "language_info": {
   "codemirror_mode": {
    "name": "ipython",
    "version": 3
   },
   "file_extension": ".py",
   "mimetype": "text/x-python",
   "name": "python",
   "nbconvert_exporter": "python",
   "pygments_lexer": "ipython3",
   "version": "3.8.11"
  }
 },
 "nbformat": 4,
 "nbformat_minor": 5
}
